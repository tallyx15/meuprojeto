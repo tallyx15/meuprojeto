{
 "cells": [
  {
   "cell_type": "code",
   "execution_count": 2,
   "id": "07753c9a",
   "metadata": {},
   "outputs": [],
   "source": [
    "import duckdb\n",
    "import\tpandas as pd\n",
    "import os\n",
    "from datetime import datetime"
   ]
  },
  {
   "cell_type": "code",
   "execution_count": 99,
   "id": "ce8de983",
   "metadata": {},
   "outputs": [],
   "source": [
    "con = duckdb.connect(database='dados_duckdb.db', read_only=False)"
   ]
  },
  {
   "cell_type": "code",
   "execution_count": 1,
   "id": "fdcdebb4",
   "metadata": {},
   "outputs": [
    {
     "ename": "NameError",
     "evalue": "name 'datetime' is not defined",
     "output_type": "error",
     "traceback": [
      "\u001b[31m---------------------------------------------------------------------------\u001b[39m",
      "\u001b[31mNameError\u001b[39m                                 Traceback (most recent call last)",
      "\u001b[36mCell\u001b[39m\u001b[36m \u001b[39m\u001b[32mIn[1]\u001b[39m\u001b[32m, line 2\u001b[39m\n\u001b[32m      1\u001b[39m arquivo = \u001b[33m'\u001b[39m\u001b[33mz250535_2.csv\u001b[39m\u001b[33m'\u001b[39m\n\u001b[32m----> \u001b[39m\u001b[32m2\u001b[39m data_ingestao = \u001b[43mdatetime\u001b[49m.now()\n\u001b[32m      3\u001b[39m df = pd.read_csv(\u001b[33mf\u001b[39m\u001b[33m'\u001b[39m\u001b[33m../landing/\u001b[39m\u001b[38;5;132;01m{\u001b[39;00marquivo\u001b[38;5;132;01m}\u001b[39;00m\u001b[33m'\u001b[39m, sep =\u001b[33m'\u001b[39m\u001b[33m;\u001b[39m\u001b[33m'\u001b[39m)\n\u001b[32m      4\u001b[39m df[\u001b[33m'\u001b[39m\u001b[33mdata_ingestao\u001b[39m\u001b[33m'\u001b[39m] = data_ingestao\n",
      "\u001b[31mNameError\u001b[39m: name 'datetime' is not defined"
     ]
    }
   ],
   "source": [
    "arquivo = 'z250535_2.csv'\n",
    "data_ingestao = datetime.now()\n",
    "df = pd.read_csv(f'../landing/{arquivo}', sep =';')\n",
    "df['data_ingestao'] = data_ingestao\n",
    "df['arquivo'] = arquivo\n",
    "df.head()"
   ]
  },
  {
   "cell_type": "code",
   "execution_count": 101,
   "id": "9a688866",
   "metadata": {},
   "outputs": [
    {
     "data": {
      "text/plain": [
       "<duckdb.duckdb.DuckDBPyConnection at 0x2639e625730>"
      ]
     },
     "execution_count": 101,
     "metadata": {},
     "output_type": "execute_result"
    }
   ],
   "source": [
    "con.execute(\"\"\"\n",
    "CREATE TABLE IF NOT EXISTS bronze_produtos(\n",
    "Number VARCHAR,\n",
    "Material VARCHAR,\n",
    "Quantity VARCHAR,\n",
    "Price VARCHAR,\n",
    "Marca VARCHAR,\n",
    "arquivo VARCHAR,\n",
    "data_ingestao TIMESTAMP\n",
    ")\n",
    "            \"\"\")"
   ]
  },
  {
   "cell_type": "code",
   "execution_count": 91,
   "id": "036bb93e",
   "metadata": {},
   "outputs": [
    {
     "data": {
      "text/plain": [
       "<duckdb.duckdb.DuckDBPyConnection at 0x2639c9b1130>"
      ]
     },
     "execution_count": 91,
     "metadata": {},
     "output_type": "execute_result"
    }
   ],
   "source": [
    "# Select only the columns that match the table schema\n",
    "df_to_insert = df[['Number', 'Material', 'Quantity', 'Price', 'arquivo', 'data_ingestao']]\n",
    "\n",
    "# Insert the filtered DataFrame into the table\n",
    "con.execute(\"INSERT INTO bronze_produtos SELECT * FROM df_to_insert\")"
   ]
  },
  {
   "cell_type": "code",
   "execution_count": 106,
   "id": "6d822003",
   "metadata": {},
   "outputs": [
    {
     "data": {
      "text/html": [
       "<div>\n",
       "<style scoped>\n",
       "    .dataframe tbody tr th:only-of-type {\n",
       "        vertical-align: middle;\n",
       "    }\n",
       "\n",
       "    .dataframe tbody tr th {\n",
       "        vertical-align: top;\n",
       "    }\n",
       "\n",
       "    .dataframe thead th {\n",
       "        text-align: right;\n",
       "    }\n",
       "</style>\n",
       "<table border=\"1\" class=\"dataframe\">\n",
       "  <thead>\n",
       "    <tr style=\"text-align: right;\">\n",
       "      <th></th>\n",
       "      <th>Number</th>\n",
       "      <th>Material</th>\n",
       "      <th>Quantity</th>\n",
       "      <th>Price</th>\n",
       "      <th>arquivo</th>\n",
       "      <th>data_ingestao</th>\n",
       "    </tr>\n",
       "  </thead>\n",
       "  <tbody>\n",
       "    <tr>\n",
       "      <th>0</th>\n",
       "      <td>101</td>\n",
       "      <td>Steel</td>\n",
       "      <td>100</td>\n",
       "      <td>50</td>\n",
       "      <td>z250535_1.csv</td>\n",
       "      <td>2025-05-15 08:49:57.556141</td>\n",
       "    </tr>\n",
       "    <tr>\n",
       "      <th>1</th>\n",
       "      <td>202</td>\n",
       "      <td>Aluminum</td>\n",
       "      <td>200</td>\n",
       "      <td>30</td>\n",
       "      <td>z250535_1.csv</td>\n",
       "      <td>2025-05-15 08:49:57.556141</td>\n",
       "    </tr>\n",
       "    <tr>\n",
       "      <th>2</th>\n",
       "      <td>303</td>\n",
       "      <td>Plastic</td>\n",
       "      <td>300</td>\n",
       "      <td>20</td>\n",
       "      <td>z250535_1.csv</td>\n",
       "      <td>2025-05-15 08:49:57.556141</td>\n",
       "    </tr>\n",
       "    <tr>\n",
       "      <th>3</th>\n",
       "      <td>404</td>\n",
       "      <td>Wood</td>\n",
       "      <td>400</td>\n",
       "      <td>10</td>\n",
       "      <td>z250535_1.csv</td>\n",
       "      <td>2025-05-15 08:49:57.556141</td>\n",
       "    </tr>\n",
       "    <tr>\n",
       "      <th>4</th>\n",
       "      <td>101</td>\n",
       "      <td>Steel</td>\n",
       "      <td>100</td>\n",
       "      <td>50</td>\n",
       "      <td>z250535_1.csv</td>\n",
       "      <td>2025-05-15 08:49:57.556141</td>\n",
       "    </tr>\n",
       "    <tr>\n",
       "      <th>5</th>\n",
       "      <td>202</td>\n",
       "      <td>Aluminum</td>\n",
       "      <td>200</td>\n",
       "      <td>30</td>\n",
       "      <td>z250535_1.csv</td>\n",
       "      <td>2025-05-15 08:49:57.556141</td>\n",
       "    </tr>\n",
       "    <tr>\n",
       "      <th>6</th>\n",
       "      <td>303</td>\n",
       "      <td>Plastic</td>\n",
       "      <td>300</td>\n",
       "      <td>20</td>\n",
       "      <td>z250535_1.csv</td>\n",
       "      <td>2025-05-15 08:49:57.556141</td>\n",
       "    </tr>\n",
       "    <tr>\n",
       "      <th>7</th>\n",
       "      <td>404</td>\n",
       "      <td>Wood</td>\n",
       "      <td>400</td>\n",
       "      <td>10</td>\n",
       "      <td>z250535_1.csv</td>\n",
       "      <td>2025-05-15 08:49:57.556141</td>\n",
       "    </tr>\n",
       "    <tr>\n",
       "      <th>8</th>\n",
       "      <td>101</td>\n",
       "      <td>Steel</td>\n",
       "      <td>100</td>\n",
       "      <td>50</td>\n",
       "      <td>z250535_1.csv</td>\n",
       "      <td>2025-05-15 09:14:01.003792</td>\n",
       "    </tr>\n",
       "    <tr>\n",
       "      <th>9</th>\n",
       "      <td>202</td>\n",
       "      <td>Aluminum</td>\n",
       "      <td>200</td>\n",
       "      <td>30</td>\n",
       "      <td>z250535_1.csv</td>\n",
       "      <td>2025-05-15 09:14:01.003792</td>\n",
       "    </tr>\n",
       "    <tr>\n",
       "      <th>10</th>\n",
       "      <td>303</td>\n",
       "      <td>Plastic</td>\n",
       "      <td>300</td>\n",
       "      <td>20</td>\n",
       "      <td>z250535_1.csv</td>\n",
       "      <td>2025-05-15 09:14:01.003792</td>\n",
       "    </tr>\n",
       "    <tr>\n",
       "      <th>11</th>\n",
       "      <td>404</td>\n",
       "      <td>Wood</td>\n",
       "      <td>400</td>\n",
       "      <td>10</td>\n",
       "      <td>z250535_1.csv</td>\n",
       "      <td>2025-05-15 09:14:01.003792</td>\n",
       "    </tr>\n",
       "    <tr>\n",
       "      <th>12</th>\n",
       "      <td>101</td>\n",
       "      <td>Steel</td>\n",
       "      <td>100</td>\n",
       "      <td>50</td>\n",
       "      <td>z250535_2.csv</td>\n",
       "      <td>2025-05-15 09:25:35.678889</td>\n",
       "    </tr>\n",
       "    <tr>\n",
       "      <th>13</th>\n",
       "      <td>202</td>\n",
       "      <td>Aluminum</td>\n",
       "      <td>200</td>\n",
       "      <td>30</td>\n",
       "      <td>z250535_2.csv</td>\n",
       "      <td>2025-05-15 09:25:35.678889</td>\n",
       "    </tr>\n",
       "    <tr>\n",
       "      <th>14</th>\n",
       "      <td>303</td>\n",
       "      <td>Plastic</td>\n",
       "      <td>300</td>\n",
       "      <td>20</td>\n",
       "      <td>z250535_2.csv</td>\n",
       "      <td>2025-05-15 09:25:35.678889</td>\n",
       "    </tr>\n",
       "  </tbody>\n",
       "</table>\n",
       "</div>"
      ],
      "text/plain": [
       "   Number  Material Quantity Price        arquivo              data_ingestao\n",
       "0     101     Steel      100    50  z250535_1.csv 2025-05-15 08:49:57.556141\n",
       "1     202  Aluminum      200    30  z250535_1.csv 2025-05-15 08:49:57.556141\n",
       "2     303   Plastic      300    20  z250535_1.csv 2025-05-15 08:49:57.556141\n",
       "3     404      Wood      400    10  z250535_1.csv 2025-05-15 08:49:57.556141\n",
       "4     101     Steel      100    50  z250535_1.csv 2025-05-15 08:49:57.556141\n",
       "5     202  Aluminum      200    30  z250535_1.csv 2025-05-15 08:49:57.556141\n",
       "6     303   Plastic      300    20  z250535_1.csv 2025-05-15 08:49:57.556141\n",
       "7     404      Wood      400    10  z250535_1.csv 2025-05-15 08:49:57.556141\n",
       "8     101     Steel      100    50  z250535_1.csv 2025-05-15 09:14:01.003792\n",
       "9     202  Aluminum      200    30  z250535_1.csv 2025-05-15 09:14:01.003792\n",
       "10    303   Plastic      300    20  z250535_1.csv 2025-05-15 09:14:01.003792\n",
       "11    404      Wood      400    10  z250535_1.csv 2025-05-15 09:14:01.003792\n",
       "12    101     Steel      100    50  z250535_2.csv 2025-05-15 09:25:35.678889\n",
       "13    202  Aluminum      200    30  z250535_2.csv 2025-05-15 09:25:35.678889\n",
       "14    303   Plastic      300    20  z250535_2.csv 2025-05-15 09:25:35.678889"
      ]
     },
     "execution_count": 106,
     "metadata": {},
     "output_type": "execute_result"
    }
   ],
   "source": [
    "resultado = con.execute(\"SELECT * FROM bronze_z002025\").fetchdf()\n",
    "resultado.head(15)"
   ]
  },
  {
   "cell_type": "code",
   "execution_count": 104,
   "id": "fc44b4ff",
   "metadata": {},
   "outputs": [
    {
     "data": {
      "text/plain": [
       "<duckdb.duckdb.DuckDBPyConnection at 0x2639e625730>"
      ]
     },
     "execution_count": 104,
     "metadata": {},
     "output_type": "execute_result"
    }
   ],
   "source": [
    "con.execute(\"ALTER TABLE bronze_produtos RENAME TO bronze_z002025\")"
   ]
  },
  {
   "cell_type": "code",
   "execution_count": 108,
   "id": "cbf5cb98",
   "metadata": {},
   "outputs": [],
   "source": [
    "con.close()"
   ]
  }
 ],
 "metadata": {
  "kernelspec": {
   "display_name": "Python 3",
   "language": "python",
   "name": "python3"
  },
  "language_info": {
   "codemirror_mode": {
    "name": "ipython",
    "version": 3
   },
   "file_extension": ".py",
   "mimetype": "text/x-python",
   "name": "python",
   "nbconvert_exporter": "python",
   "pygments_lexer": "ipython3",
   "version": "3.13.3"
  }
 },
 "nbformat": 4,
 "nbformat_minor": 5
}
