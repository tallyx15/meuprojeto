{
 "cells": [
  {
   "cell_type": "code",
   "execution_count": 14,
   "id": "db4580d1",
   "metadata": {},
   "outputs": [],
   "source": [
    "import duckdb"
   ]
  },
  {
   "cell_type": "code",
   "execution_count": 25,
   "id": "66ef6ec5",
   "metadata": {},
   "outputs": [],
   "source": [
    "con = duckdb.connect(database='dados_duckdb.db', read_only=False)"
   ]
  },
  {
   "cell_type": "code",
   "execution_count": 37,
   "id": "3291ba5b",
   "metadata": {},
   "outputs": [
    {
     "data": {
      "text/html": [
       "<div>\n",
       "<style scoped>\n",
       "    .dataframe tbody tr th:only-of-type {\n",
       "        vertical-align: middle;\n",
       "    }\n",
       "\n",
       "    .dataframe tbody tr th {\n",
       "        vertical-align: top;\n",
       "    }\n",
       "\n",
       "    .dataframe thead th {\n",
       "        text-align: right;\n",
       "    }\n",
       "</style>\n",
       "<table border=\"1\" class=\"dataframe\">\n",
       "  <thead>\n",
       "    <tr style=\"text-align: right;\">\n",
       "      <th></th>\n",
       "      <th>Number</th>\n",
       "      <th>Material</th>\n",
       "      <th>Quantity</th>\n",
       "      <th>Price</th>\n",
       "      <th>arquivo</th>\n",
       "      <th>data_ingestao</th>\n",
       "      <th>row_num</th>\n",
       "    </tr>\n",
       "  </thead>\n",
       "  <tbody>\n",
       "    <tr>\n",
       "      <th>0</th>\n",
       "      <td>101</td>\n",
       "      <td>Steel</td>\n",
       "      <td>100</td>\n",
       "      <td>50</td>\n",
       "      <td>z250535_2.csv</td>\n",
       "      <td>2025-05-15 09:27:22.982973</td>\n",
       "      <td>1</td>\n",
       "    </tr>\n",
       "    <tr>\n",
       "      <th>1</th>\n",
       "      <td>202</td>\n",
       "      <td>Aluminum</td>\n",
       "      <td>200</td>\n",
       "      <td>30</td>\n",
       "      <td>z250535_2.csv</td>\n",
       "      <td>2025-05-15 09:27:22.982973</td>\n",
       "      <td>1</td>\n",
       "    </tr>\n",
       "    <tr>\n",
       "      <th>2</th>\n",
       "      <td>303</td>\n",
       "      <td>Plastic</td>\n",
       "      <td>300</td>\n",
       "      <td>20</td>\n",
       "      <td>z250535_2.csv</td>\n",
       "      <td>2025-05-15 09:27:22.982973</td>\n",
       "      <td>1</td>\n",
       "    </tr>\n",
       "    <tr>\n",
       "      <th>3</th>\n",
       "      <td>404</td>\n",
       "      <td>Wood</td>\n",
       "      <td>400</td>\n",
       "      <td>90</td>\n",
       "      <td>z250535_2.csv</td>\n",
       "      <td>2025-05-15 09:27:22.982973</td>\n",
       "      <td>1</td>\n",
       "    </tr>\n",
       "  </tbody>\n",
       "</table>\n",
       "</div>"
      ],
      "text/plain": [
       "  Number  Material Quantity Price        arquivo              data_ingestao  \\\n",
       "0    101     Steel      100    50  z250535_2.csv 2025-05-15 09:27:22.982973   \n",
       "1    202  Aluminum      200    30  z250535_2.csv 2025-05-15 09:27:22.982973   \n",
       "2    303   Plastic      300    20  z250535_2.csv 2025-05-15 09:27:22.982973   \n",
       "3    404      Wood      400    90  z250535_2.csv 2025-05-15 09:27:22.982973   \n",
       "\n",
       "   row_num  \n",
       "0        1  \n",
       "1        1  \n",
       "2        1  \n",
       "3        1  "
      ]
     },
     "execution_count": 37,
     "metadata": {},
     "output_type": "execute_result"
    }
   ],
   "source": [
    "# Ensure the connection object `con` is defined and the previous cells are executed\n",
    "df = con.execute(\"\"\"\n",
    "                SELECT *\n",
    "                 FROM(\n",
    "                 SELECT *, ROW_NUMBER() OVER (PARTITION BY Number ORDER BY data_ingestao DESC) AS row_num\n",
    "                 FROM bronze_z002025                     \n",
    "                 WHERE data_ingestao >= '2025-05-15'\n",
    "                 ) WHERE row_num = 1\n",
    "                 \"\"\").fetchdf()\n",
    "df.head(5)"
   ]
  },
  {
   "cell_type": "code",
   "execution_count": 49,
   "id": "c42a19b6",
   "metadata": {},
   "outputs": [
    {
     "data": {
      "text/html": [
       "<div>\n",
       "<style scoped>\n",
       "    .dataframe tbody tr th:only-of-type {\n",
       "        vertical-align: middle;\n",
       "    }\n",
       "\n",
       "    .dataframe tbody tr th {\n",
       "        vertical-align: top;\n",
       "    }\n",
       "\n",
       "    .dataframe thead th {\n",
       "        text-align: right;\n",
       "    }\n",
       "</style>\n",
       "<table border=\"1\" class=\"dataframe\">\n",
       "  <thead>\n",
       "    <tr style=\"text-align: right;\">\n",
       "      <th></th>\n",
       "      <th>id</th>\n",
       "      <th>Materiais</th>\n",
       "      <th>Quantidade</th>\n",
       "      <th>Preço</th>\n",
       "    </tr>\n",
       "  </thead>\n",
       "  <tbody>\n",
       "    <tr>\n",
       "      <th>0</th>\n",
       "      <td>101</td>\n",
       "      <td>Steel</td>\n",
       "      <td>100</td>\n",
       "      <td>50</td>\n",
       "    </tr>\n",
       "    <tr>\n",
       "      <th>1</th>\n",
       "      <td>202</td>\n",
       "      <td>Aluminum</td>\n",
       "      <td>200</td>\n",
       "      <td>30</td>\n",
       "    </tr>\n",
       "    <tr>\n",
       "      <th>2</th>\n",
       "      <td>303</td>\n",
       "      <td>Plastic</td>\n",
       "      <td>300</td>\n",
       "      <td>20</td>\n",
       "    </tr>\n",
       "    <tr>\n",
       "      <th>3</th>\n",
       "      <td>404</td>\n",
       "      <td>Wood</td>\n",
       "      <td>400</td>\n",
       "      <td>90</td>\n",
       "    </tr>\n",
       "  </tbody>\n",
       "</table>\n",
       "</div>"
      ],
      "text/plain": [
       "    id Materiais Quantidade Preço\n",
       "0  101     Steel        100    50\n",
       "1  202  Aluminum        200    30\n",
       "2  303   Plastic        300    20\n",
       "3  404      Wood        400    90"
      ]
     },
     "execution_count": 49,
     "metadata": {},
     "output_type": "execute_result"
    }
   ],
   "source": [
    "df_final = (df.drop(columns=['arquivo', 'data_ingestao', 'row_num']))\n",
    "df_final = df_final.rename(columns= {\"Number\": \"id\"})\n",
    "df_final = df_final.rename(columns= {'Material': \"Materiais\"})\n",
    "df_final = df_final.rename(columns= {'Quantity': \"Quantidade\"})\n",
    "df_final = df_final.rename(columns= {'Price': \"Preço\"})\n",
    "df_final.head(12)"
   ]
  },
  {
   "cell_type": "code",
   "execution_count": 52,
   "id": "ca1606eb",
   "metadata": {},
   "outputs": [
    {
     "data": {
      "text/plain": [
       "id            object\n",
       "Materiais     object\n",
       "Quantidade    object\n",
       "Preço         object\n",
       "dtype: object"
      ]
     },
     "execution_count": 52,
     "metadata": {},
     "output_type": "execute_result"
    }
   ],
   "source": [
    "df_final.dtypes"
   ]
  },
  {
   "cell_type": "code",
   "execution_count": null,
   "id": "6d850bf0",
   "metadata": {},
   "outputs": [
    {
     "data": {
      "text/plain": [
       "id                     int64\n",
       "Materiais     string[python]\n",
       "Quantidade    string[python]\n",
       "Preço                float32\n",
       "dtype: object"
      ]
     },
     "execution_count": 61,
     "metadata": {},
     "output_type": "execute_result"
    }
   ],
   "source": [
    "df2 = df_final\n",
    "df2 = df2.astype(\n",
    "    {\n",
    "    'id': 'int',\n",
    "    'Materiais': 'string',\n",
    "    'Quantidade': 'string',\n",
    "    'Preço': 'float32'\n",
    "}\n",
    ")\n",
    "#df_final.head(12)\n",
    "df2.dtypes"
   ]
  },
  {
   "cell_type": "code",
   "execution_count": 64,
   "id": "282aee4a",
   "metadata": {},
   "outputs": [
    {
     "data": {
      "text/plain": [
       "<duckdb.duckdb.DuckDBPyConnection at 0x14eb1606f30>"
      ]
     },
     "execution_count": 64,
     "metadata": {},
     "output_type": "execute_result"
    }
   ],
   "source": [
    "con.execute(\"\"\"\n",
    "                CREATE TABLE IF NOT EXISTS produtos(\n",
    "            id BIGINT,\n",
    "            Materiais STRING,\n",
    "            Quantidade STRING,\n",
    "            Preço FLOAT\n",
    "            )\n",
    "            \"\"\")"
   ]
  },
  {
   "cell_type": "code",
   "execution_count": 65,
   "id": "c5512c5e",
   "metadata": {},
   "outputs": [
    {
     "data": {
      "text/html": [
       "<div>\n",
       "<style scoped>\n",
       "    .dataframe tbody tr th:only-of-type {\n",
       "        vertical-align: middle;\n",
       "    }\n",
       "\n",
       "    .dataframe tbody tr th {\n",
       "        vertical-align: top;\n",
       "    }\n",
       "\n",
       "    .dataframe thead th {\n",
       "        text-align: right;\n",
       "    }\n",
       "</style>\n",
       "<table border=\"1\" class=\"dataframe\">\n",
       "  <thead>\n",
       "    <tr style=\"text-align: right;\">\n",
       "      <th></th>\n",
       "      <th>id</th>\n",
       "      <th>Materiais</th>\n",
       "      <th>Quantidade</th>\n",
       "      <th>Preço</th>\n",
       "    </tr>\n",
       "  </thead>\n",
       "  <tbody>\n",
       "    <tr>\n",
       "      <th>0</th>\n",
       "      <td>101</td>\n",
       "      <td>Steel</td>\n",
       "      <td>100</td>\n",
       "      <td>50.0</td>\n",
       "    </tr>\n",
       "    <tr>\n",
       "      <th>1</th>\n",
       "      <td>202</td>\n",
       "      <td>Aluminum</td>\n",
       "      <td>200</td>\n",
       "      <td>30.0</td>\n",
       "    </tr>\n",
       "    <tr>\n",
       "      <th>2</th>\n",
       "      <td>303</td>\n",
       "      <td>Plastic</td>\n",
       "      <td>300</td>\n",
       "      <td>20.0</td>\n",
       "    </tr>\n",
       "    <tr>\n",
       "      <th>3</th>\n",
       "      <td>404</td>\n",
       "      <td>Wood</td>\n",
       "      <td>400</td>\n",
       "      <td>90.0</td>\n",
       "    </tr>\n",
       "  </tbody>\n",
       "</table>\n",
       "</div>"
      ],
      "text/plain": [
       "    id Materiais Quantidade  Preço\n",
       "0  101     Steel        100   50.0\n",
       "1  202  Aluminum        200   30.0\n",
       "2  303   Plastic        300   20.0\n",
       "3  404      Wood        400   90.0"
      ]
     },
     "execution_count": 65,
     "metadata": {},
     "output_type": "execute_result"
    }
   ],
   "source": [
    "df2.head(12)"
   ]
  },
  {
   "cell_type": "code",
   "execution_count": 70,
   "id": "521dd411",
   "metadata": {},
   "outputs": [
    {
     "data": {
      "text/plain": [
       "<duckdb.duckdb.DuckDBPyConnection at 0x14eb1606f30>"
      ]
     },
     "execution_count": 70,
     "metadata": {},
     "output_type": "execute_result"
    }
   ],
   "source": [
    "con.execute(\" INSERT INTO produtos SELECT * FROM df2\") \n"
   ]
  },
  {
   "cell_type": "code",
   "execution_count": 71,
   "id": "6acd8872",
   "metadata": {},
   "outputs": [
    {
     "data": {
      "text/html": [
       "<div>\n",
       "<style scoped>\n",
       "    .dataframe tbody tr th:only-of-type {\n",
       "        vertical-align: middle;\n",
       "    }\n",
       "\n",
       "    .dataframe tbody tr th {\n",
       "        vertical-align: top;\n",
       "    }\n",
       "\n",
       "    .dataframe thead th {\n",
       "        text-align: right;\n",
       "    }\n",
       "</style>\n",
       "<table border=\"1\" class=\"dataframe\">\n",
       "  <thead>\n",
       "    <tr style=\"text-align: right;\">\n",
       "      <th></th>\n",
       "      <th>id</th>\n",
       "      <th>Materiais</th>\n",
       "      <th>Quantidade</th>\n",
       "      <th>Preço</th>\n",
       "    </tr>\n",
       "  </thead>\n",
       "  <tbody>\n",
       "    <tr>\n",
       "      <th>0</th>\n",
       "      <td>101</td>\n",
       "      <td>Steel</td>\n",
       "      <td>100</td>\n",
       "      <td>50.0</td>\n",
       "    </tr>\n",
       "    <tr>\n",
       "      <th>1</th>\n",
       "      <td>202</td>\n",
       "      <td>Aluminum</td>\n",
       "      <td>200</td>\n",
       "      <td>30.0</td>\n",
       "    </tr>\n",
       "    <tr>\n",
       "      <th>2</th>\n",
       "      <td>303</td>\n",
       "      <td>Plastic</td>\n",
       "      <td>300</td>\n",
       "      <td>20.0</td>\n",
       "    </tr>\n",
       "    <tr>\n",
       "      <th>3</th>\n",
       "      <td>404</td>\n",
       "      <td>Wood</td>\n",
       "      <td>400</td>\n",
       "      <td>90.0</td>\n",
       "    </tr>\n",
       "  </tbody>\n",
       "</table>\n",
       "</div>"
      ],
      "text/plain": [
       "    id Materiais Quantidade  Preço\n",
       "0  101     Steel        100   50.0\n",
       "1  202  Aluminum        200   30.0\n",
       "2  303   Plastic        300   20.0\n",
       "3  404      Wood        400   90.0"
      ]
     },
     "execution_count": 71,
     "metadata": {},
     "output_type": "execute_result"
    }
   ],
   "source": [
    "df_result = con.execute(\" select * from produtos\").fetchdf()\n",
    "df_result.head(12)"
   ]
  },
  {
   "cell_type": "code",
   "execution_count": 72,
   "id": "09259196",
   "metadata": {},
   "outputs": [],
   "source": [
    "con.close()"
   ]
  }
 ],
 "metadata": {
  "kernelspec": {
   "display_name": "Python 3",
   "language": "python",
   "name": "python3"
  },
  "language_info": {
   "codemirror_mode": {
    "name": "ipython",
    "version": 3
   },
   "file_extension": ".py",
   "mimetype": "text/x-python",
   "name": "python",
   "nbconvert_exporter": "python",
   "pygments_lexer": "ipython3",
   "version": "3.13.3"
  }
 },
 "nbformat": 4,
 "nbformat_minor": 5
}
